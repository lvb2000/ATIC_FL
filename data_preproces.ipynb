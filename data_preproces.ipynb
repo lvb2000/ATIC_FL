{
 "cells": [
  {
   "cell_type": "markdown",
   "metadata": {},
   "source": [
    "# Data Processing"
   ]
  },
  {
   "cell_type": "code",
   "execution_count": null,
   "metadata": {},
   "outputs": [],
   "source": [
    "# Install if needed: pip install yfinance pandas numpy\n",
    "import pandas as pd\n",
    "import numpy as np\n",
    "from sklearn.preprocessing import StandardScaler"
   ]
  },
  {
   "cell_type": "code",
   "execution_count": null,
   "metadata": {},
   "outputs": [],
   "source": [
    "data_raw = pd.read_csv(\"FTSE100_raw.csv\")\n",
    "print(data_raw.columns)\n",
    "print(data_raw)"
   ]
  },
  {
   "cell_type": "code",
   "execution_count": null,
   "metadata": {},
   "outputs": [],
   "source": [
    "def convert_german_float(value):\n",
    "    if isinstance(value, str):\n",
    "        # Remove periods (thousands separator)\n",
    "        cleaned_value = value.replace('.', '')\n",
    "        # Replace comma (decimal separator) with period\n",
    "        cleaned_value = cleaned_value.replace(',', '.')\n",
    "        try:\n",
    "            return float(cleaned_value)\n",
    "        except ValueError:\n",
    "            return np.nan # Or handle other errors as needed\n",
    "    return value # Return as is if not a string (e.g., already a number or NaN)\n",
    "data_raw['Price'] = data_raw['Price'].apply(convert_german_float)"
   ]
  },
  {
   "cell_type": "code",
   "execution_count": null,
   "metadata": {},
   "outputs": [],
   "source": [
    "# -----------------------------------\n",
    "# STEP 2: Clean and enrich the data\n",
    "# -----------------------------------\n",
    "# First compute daily log return\n",
    "data_raw[\"LogReturn\"] = np.log(data_raw[\"Price\"] / data_raw[\"Price\"].shift(1))\n",
    "\n",
    "# Fit scaler on LogReturn and transform\n",
    "split_idx = int(len(data_raw) * 0.8)\n",
    "scaler = StandardScaler()\n",
    "scaler.fit(data_raw.loc[:split_idx-1, [\"LogReturn\"]])\n",
    "data_raw[\"LogReturn\"] = scaler.transform(data_raw[[\"LogReturn\"]])\n",
    "\n",
    "\n",
    "# Define the prediction target: \"HORIZON\"-day forward cumulative return\n",
    "HORIZON = 5 # cumulative return of 5 days \n",
    "cum_return = data_raw[\"LogReturn\"].rolling(window=HORIZON).sum().shift(-HORIZON)\n",
    "# Print more values: show the first 20 and last 20 values, plus summary stats\n",
    "data_raw[\"Target\"] = (cum_return > 0).astype(int)\n",
    "\n",
    "# Keep only date, log return and target\n",
    "data = data_raw[[\"Date\",\"LogReturn\", \"Target\"]]\n",
    "print(data)\n",
    "\n",
    "# Drop the first row with NaN return (from shift operation)\n",
    "data.dropna(inplace=True)"
   ]
  },
  {
   "cell_type": "code",
   "execution_count": null,
   "metadata": {},
   "outputs": [],
   "source": [
    "# -----------------------------------\n",
    "# STEP 3: Create lag features\n",
    "# -----------------------------------\n",
    "N_LAGS = 15\n",
    "for lag in range(1, N_LAGS + 1):\n",
    "    data[f\"Lag_{lag}\"] = data[\"LogReturn\"].shift(lag)\n",
    "# Add lagged date columns\n",
    "for lag in range(1, N_LAGS + 1):\n",
    "    data[f\"Date_Lag_{lag}\"] = data[\"Date\"].shift(lag)\n",
    "\n",
    "data.dropna(inplace=True)  # drop rows with NaNs introduced by lagging\n",
    "\n",
    "data.drop(columns=[\"LogReturn\"], inplace=True) # LogReturn no more needed\n",
    "print(data)"
   ]
  },
  {
   "cell_type": "code",
   "execution_count": null,
   "metadata": {},
   "outputs": [],
   "source": [
    "# -----------------------------------\n",
    "# STEP 4: Add temporal features\n",
    "# -----------------------------------\n",
    "\n",
    "# Helper to add cyclical features for a given date column\n",
    "def add_cyclical_features(df, date_col, prefix):\n",
    "    # Ensure the date column is in datetime format\n",
    "    df[date_col] = pd.to_datetime(df[date_col], format=\"%m/%d/%Y\")\n",
    "    \n",
    "    # Extract raw features\n",
    "    df[f\"{prefix}_day_of_week\"] = df[date_col].dt.dayofweek   # 0-6\n",
    "    df[f\"{prefix}_month\"] = df[date_col].dt.month             # 1-12\n",
    "    df[f\"{prefix}_day_of_month\"] = df[date_col].dt.day        # 1-31\n",
    "\n",
    "    # Day of week: 0-6, max_value=7\n",
    "    df[f\"{prefix}_dow_sin\"] = np.sin(2 * np.pi * df[f\"{prefix}_day_of_week\"] / 7)\n",
    "    df[f\"{prefix}_dow_cos\"] = np.cos(2 * np.pi * df[f\"{prefix}_day_of_week\"] / 7)\n",
    "    # Month: 1-12, max_value=12\n",
    "    df[f\"{prefix}_month_sin\"] = np.sin(2 * np.pi * df[f\"{prefix}_month\"] / 12)\n",
    "    df[f\"{prefix}_month_cos\"] = np.cos(2 * np.pi * df[f\"{prefix}_month\"] / 12)\n",
    "    # Day of month: 1-31, max_value=31\n",
    "    df[f\"{prefix}_dom_sin\"] = np.sin(2 * np.pi * df[f\"{prefix}_day_of_month\"] / 31)\n",
    "    df[f\"{prefix}_dom_cos\"] = np.cos(2 * np.pi * df[f\"{prefix}_day_of_month\"] / 31)\n",
    "\n",
    "# Add cyclical features for each lagged date column\n",
    "for lag in range(1, N_LAGS + 1):\n",
    "    lag_col = f\"Date_Lag_{lag}\"\n",
    "    add_cyclical_features(data, lag_col, f\"lag{lag}\")\n",
    "\n",
    "# Learn a scaler on the first 80% of the dataset, then apply to all sin and cos columns\n",
    "full_train_size = int(len(data) * 0.8)\n",
    "sin_cos_cols = [col for col in data.columns if col.endswith(\"_sin\") or col.endswith(\"_cos\")]\n",
    "scaler_cyc = StandardScaler()\n",
    "scaler_cyc.fit(data.loc[:full_train_size-1, sin_cos_cols])\n",
    "data[sin_cos_cols] = scaler_cyc.transform(data[sin_cos_cols])\n",
    "\n",
    "cols_to_drop = [col for col in data.columns if col.startswith(\"Date_Lag_\") or \n",
    "            col.endswith(\"_day_of_week\") or col.endswith(\"_month\") or col.endswith(\"_day_of_month\")]\n",
    "data.drop(columns=cols_to_drop, inplace=True)\n",
    "print(data)"
   ]
  },
  {
   "cell_type": "code",
   "execution_count": null,
   "metadata": {},
   "outputs": [],
   "source": [
    "data.to_csv(\"FTSE100_classification.csv\", index=False)\n"
   ]
  }
 ],
 "metadata": {
  "kernelspec": {
   "display_name": "base",
   "language": "python",
   "name": "python3"
  },
  "language_info": {
   "codemirror_mode": {
    "name": "ipython",
    "version": 3
   },
   "file_extension": ".py",
   "mimetype": "text/x-python",
   "name": "python",
   "nbconvert_exporter": "python",
   "pygments_lexer": "ipython3",
   "version": "3.12.2"
  }
 },
 "nbformat": 4,
 "nbformat_minor": 2
}
