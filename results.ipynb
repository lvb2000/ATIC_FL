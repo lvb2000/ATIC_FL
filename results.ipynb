{
 "cells": [
  {
   "cell_type": "code",
   "execution_count": 3,
   "id": "911d8fff",
   "metadata": {},
   "outputs": [],
   "source": [
    "import pandas as pd\n",
    "import numpy as np"
   ]
  },
  {
   "cell_type": "markdown",
   "id": "c771fe95",
   "metadata": {},
   "source": [
    "## Baseline"
   ]
  },
  {
   "cell_type": "code",
   "execution_count": 24,
   "id": "679ad3b9",
   "metadata": {},
   "outputs": [
    {
     "name": "stdout",
     "output_type": "stream",
     "text": [
      "          Centralised  Local client 0  Local client 1  Local client 2  \\\n",
      "Epoch       70.000000       71.000000       89.000000       68.000000   \n",
      "BCE          0.605196        0.631770        0.612930        0.618509   \n",
      "Accuracy     0.729490        0.689579        0.716186        0.725055   \n",
      "\n",
      "             FedAvg  \n",
      "Epoch     83.000000  \n",
      "BCE        0.619778  \n",
      "Accuracy   0.716186  \n"
     ]
    }
   ],
   "source": [
    "# Define column names\n",
    "column_names = [\"Centralised\", \"Local client 0\", \"Local client 1\", \"Local client 2\", \"FedAvg\"]\n",
    "\n",
    "# Create the DataFrame with three rows: \"Epoch\", \"BCE\" and \"Accuracy\"\n",
    "df_baseline = pd.DataFrame(\n",
    "    data=[[70,71,89,68,83],[0.605196,0.631770,0.61293,0.618509,0.619778], [0.729490,0.689579,0.716186,0.725055,0.716186]],\n",
    "    index=[\"Epoch\",\"BCE\", \"Accuracy\"],\n",
    "    columns=column_names\n",
    ")\n",
    "\n",
    "print(df_baseline)"
   ]
  },
  {
   "cell_type": "markdown",
   "id": "4887cc9e",
   "metadata": {},
   "source": [
    "\n",
    "\n",
    "Aggregate Local (robust) • Epoch 71  Worst-case BCE=0.631770  (range 0.620428–0.631770)\n",
    "Aggregate Accuracy        • Epoch 71  Worst-case ACC=0.689579  (range 0.689579–0.727273, avg=0.710273)\n",
    "Aggregate Local (robust) • Epoch 37  Worst-case Acc=0.702882  (range 0.702882–0.707317)\n",
    "\n",
    "=== FINAL TEST ERRORS (round 100) ===\n",
    "Centralised      •  BCE=0.607162  Accuracy=0.727273\n",
    "Local client 0 •  BCE=0.636516  Accuracy=0.700665\n",
    "Local client 1 •  BCE=0.616529  Accuracy=0.711752\n",
    "Local client 2 •  BCE=0.623078  Accuracy=0.718404\n",
    "FedAvg           •  BCE=0.620237  Accuracy=0.718404\n",
    "\n",
    "=== BEST-EPOCH ERRORS (lowest loss anywhere in 100 rounds) ===\n",
    "Centralised      •  Epoch 70  BCE=0.605196  Accuracy=0.729490\n",
    "Local client 0 •  Epoch 71BCE=0.631770Accuracy=0.689579\n",
    "Local client 1 •  Epoch 89BCE=0.612936Accuracy=0.716186\n",
    "Local client 2 •  Epoch 68BCE=0.618509Accuracy=0.725055\n",
    "FedAvg           •  Round 83BCE=0.619778Accuracy=0.716186"
   ]
  },
  {
   "cell_type": "markdown",
   "id": "73dbee22",
   "metadata": {},
   "source": [
    "## Quarters"
   ]
  },
  {
   "cell_type": "code",
   "execution_count": 25,
   "id": "9d881e0c",
   "metadata": {},
   "outputs": [
    {
     "name": "stdout",
     "output_type": "stream",
     "text": [
      "          Centralised  Local client 0  Local client 1  Local client 2  \\\n",
      "Epoch       50.000000       65.000000      100.000000       10.000000   \n",
      "BCE          0.604646        0.622673        0.627275        0.738776   \n",
      "Accuracy     0.731707        0.669623        0.702882        0.470067   \n",
      "\n",
      "          Local client 3      FedAvg  \n",
      "Epoch          13.000000  100.000000  \n",
      "BCE             0.662466    0.619352  \n",
      "Accuracy        0.580931    0.720621  \n"
     ]
    }
   ],
   "source": [
    "# Define column names\n",
    "column_names = [\"Centralised\", \"Local client 0\", \"Local client 1\", \"Local client 2\", \"Local client 3\", \"FedAvg\"]\n",
    "\n",
    "# Create the DataFrame with three rows: \"Epoch\", \"BCE\" and \"Accuracy\"\n",
    "df_quarters = pd.DataFrame(\n",
    "    data=[\n",
    "        [50, 65, 100, 10, 13, 100],  # Epoch/Round\n",
    "        [0.604646, 0.622673, 0.627275, 0.738776, 0.662466, 0.619352],  # BCE\n",
    "        [0.731707, 0.669623, 0.702882, 0.470067, 0.580931, 0.720621]   # Accuracy\n",
    "    ],\n",
    "    index=[\"Epoch\", \"BCE\", \"Accuracy\"],\n",
    "    columns=column_names\n",
    ")\n",
    "\n",
    "print(df_quarters)"
   ]
  },
  {
   "cell_type": "markdown",
   "id": "b31435d6",
   "metadata": {},
   "source": [
    "Aggregate Local (robust) • Epoch 01  Worst-case BCE=0.738776  (range 0.670561–0.738776)\n",
    "Aggregate Accuracy        • Epoch 01  Worst-case ACC=0.470067  (range 0.470067–0.603104, avg=0.536585)\n",
    "Aggregate Local (robust) • Epoch 101  Worst-case Acc=0.558758  (range 0.558758–0.700665)\n",
    "\n",
    "=== FINAL TEST ERRORS (round 100) ===\n",
    "Centralised      •  BCE=0.608560  Accuracy=0.727273\n",
    "Local client 0 •  BCE=0.624115  Accuracy=0.669623\n",
    "Local client 1 •  BCE=0.627470  Accuracy=0.700665\n",
    "Local client 2 •  BCE=0.855297  Accuracy=0.558758\n",
    "Local client 3 •  BCE=0.695049  Accuracy=0.636364\n",
    "FedAvg           •  BCE=0.619352  Accuracy=0.720621\n",
    "\n",
    "=== BEST-EPOCH ERRORS (lowest loss anywhere in 100 rounds) ===\n",
    "Centralised      •  Epoch 50  BCE=0.604646  Accuracy=0.731707\n",
    "Local client 0 •  Epoch 65BCE=0.622673Accuracy=0.669623\n",
    "Local client 1 •  Epoch 100BCE=0.627275Accuracy=0.702882\n",
    "Local client 2 •  Epoch 01BCE=0.738776Accuracy=0.470067\n",
    "Local client 3 •  Epoch 13BCE=0.662466Accuracy=0.580931\n",
    "FedAvg           •  Round 101BCE=0.619352Accuracy=0.720621"
   ]
  },
  {
   "cell_type": "markdown",
   "id": "11236b17",
   "metadata": {},
   "source": [
    "## Client Variance"
   ]
  },
  {
   "cell_type": "code",
   "execution_count": 26,
   "id": "037e5200",
   "metadata": {},
   "outputs": [
    {
     "name": "stdout",
     "output_type": "stream",
     "text": [
      "          Centralised  Local client 0  Local client 1  Local client 2  \\\n",
      "Epoch       50.000000       49.000000       70.000000       44.000000   \n",
      "BCE          0.604646        0.652733        0.639273        0.720284   \n",
      "Accuracy     0.731707        0.665188        0.687361        0.443459   \n",
      "\n",
      "          Local client 3      FedAvg  \n",
      "Epoch          98.000000  100.000000  \n",
      "BCE             0.643210    0.640412  \n",
      "Accuracy        0.649667    0.698448  \n"
     ]
    }
   ],
   "source": [
    "# Define column names\n",
    "column_names = [\"Centralised\", \"Local client 0\", \"Local client 1\", \"Local client 2\", \"Local client 3\", \"FedAvg\"]\n",
    "\n",
    "# Create the DataFrame with three rows: \"Epoch\", \"BCE\" and \"Accuracy\"\n",
    "df_variance = pd.DataFrame(\n",
    "    data=[\n",
    "        [50, 49, 70, 44, 98, 100],  # Epoch/Round\n",
    "        [0.604646, 0.652733, 0.639273, 0.720284, 0.643210, 0.640412],  # BCE\n",
    "        [0.731707, 0.665188, 0.687361, 0.443459, 0.649667, 0.698448]   # Accuracy\n",
    "    ],\n",
    "    index=[\"Epoch\", \"BCE\", \"Accuracy\"],\n",
    "    columns=column_names\n",
    ")\n",
    "\n",
    "print(df_variance)"
   ]
  },
  {
   "cell_type": "markdown",
   "id": "c0cd76ed",
   "metadata": {},
   "source": [
    "Aggregate Local (robust) • Epoch 44  Worst-case BCE=0.720284  (range 0.653768–0.720284)\n",
    "Aggregate Accuracy        • Epoch 44  Worst-case ACC=0.443459  (range 0.443459–0.662971, avg=0.588137)\n",
    "Aggregate Local (robust) • Epoch 05  Worst-case Acc=0.481153  (range 0.481153–0.580931)\n",
    "\n",
    "=== FINAL TEST ERRORS (round 100) ===\n",
    "Centralised      •  BCE=0.608560  Accuracy=0.727273\n",
    "Local client 0 •  BCE=0.668894  Accuracy=0.678492\n",
    "Local client 1 •  BCE=0.645312  Accuracy=0.685144\n",
    "Local client 2 •  BCE=0.720597  Accuracy=0.443459\n",
    "Local client 3 •  BCE=0.643210  Accuracy=0.649667\n",
    "FedAvg           •  BCE=0.641276  Accuracy=0.700665\n",
    "\n",
    "=== BEST-EPOCH ERRORS (lowest loss anywhere in 100 rounds) ===\n",
    "Centralised      •  Epoch 50  BCE=0.604646  Accuracy=0.731707\n",
    "Local client 0 •  Epoch 49BCE=0.652733Accuracy=0.665188\n",
    "Local client 1 •  Epoch 70BCE=0.639273Accuracy=0.687361\n",
    "Local client 2 •  Epoch 44BCE=0.720284Accuracy=0.443459\n",
    "Local client 3 •  Epoch 98BCE=0.643210Accuracy=0.649667\n",
    "FedAvg           •  Round 100BCE=0.640412Accuracy=0.698448"
   ]
  },
  {
   "cell_type": "markdown",
   "id": "4dc396c0",
   "metadata": {},
   "source": [
    "## Retrain"
   ]
  },
  {
   "cell_type": "code",
   "execution_count": 27,
   "id": "39ef22e5",
   "metadata": {},
   "outputs": [
    {
     "name": "stdout",
     "output_type": "stream",
     "text": [
      "          Centralised  Local client 0  Local client 1     FedAvg  \\\n",
      "Epoch       51.000000       89.000000       90.000000  89.000000   \n",
      "BCE          0.613862        0.621746        0.616266   0.616756   \n",
      "Accuracy     0.714128        0.707506        0.711921   0.714128   \n",
      "\n",
      "          FedAvg retrain last-layer  Scratch retrain  \n",
      "Epoch                      1.000000       100.000000  \n",
      "BCE                        0.606860         0.680062  \n",
      "Accuracy                   0.708609         0.582781  \n"
     ]
    }
   ],
   "source": [
    "column_names = [\"Centralised\", \"Local client 0\", \"Local client 1\", \"FedAvg\", \"FedAvg retrain last-layer\", \"Scratch retrain\"]\n",
    "\n",
    "# Fill in the values as specified\n",
    "df_retrain = pd.DataFrame(\n",
    "    data=[\n",
    "        [51, 89, 90, 89, 1, 100],  # Epoch/Round\n",
    "        [0.613862, 0.621746, 0.616266, 0.616756, 0.606860, 0.680062],  # BCE\n",
    "        [0.714128, 0.707506, 0.711921, 0.714128, 0.708609, 0.582781]   # Accuracy\n",
    "    ],\n",
    "    index=[\"Epoch\", \"BCE\", \"Accuracy\"],\n",
    "    columns=column_names\n",
    ")\n",
    "\n",
    "print(df_retrain)"
   ]
  },
  {
   "cell_type": "markdown",
   "id": "3a81753b",
   "metadata": {},
   "source": [
    "Aggregate Local (robust) • Epoch 89  Worst-case BCE=0.621746  (range 0.616991–0.621746)\n",
    "Aggregate Accuracy        • Epoch 89  Worst-case ACC=0.707506  (range 0.707506–0.711921, avg=0.709713)\n",
    "Aggregate Local (robust) • Epoch 49  Worst-case Acc=0.707506  (range 0.707506–0.707506)\n",
    "=== FINAL TEST ERRORS (round 100) ===\n",
    "Centralised      •  BCE=0.617396  Accuracy=0.716336\n",
    "Local client 0 •  BCE=0.623981  Accuracy=0.705298\n",
    "Local client 1 •  BCE=0.617984  Accuracy=0.710817\n",
    "FedAvg           •  BCE=0.618329  Accuracy=0.711921\n",
    "FedAvg retrain last-layer •  BCE=0.618983  Accuracy=0.704194\n",
    "FedAvg retrain from scratch •  BCE=0.680061  Accuracy=0.582781\n",
    "\n",
    "=== BEST-EPOCH ERRORS (lowest loss anywhere in 100 rounds) ===\n",
    "Centralised      •  Epoch 51  BCE=0.613862  Accuracy=0.714128\n",
    "Local client 0 •  Epoch 89BCE=0.621746Accuracy=0.707506\n",
    "Local client 1 •  Epoch 90BCE=0.616266Accuracy=0.711921\n",
    "FedAvg           •  Round 89BCE=0.616756Accuracy=0.714128\n",
    "FedAvg retrain last-layer •  Epoch 01  BCE=0.606860  Accuracy=0.708609\n",
    "FedAvg retrain from scratch •  Epoch 101  BCE=0.680061  Accuracy=0.582781\n"
   ]
  },
  {
   "cell_type": "markdown",
   "id": "360ab562",
   "metadata": {},
   "source": [
    "## Data Privacy"
   ]
  },
  {
   "cell_type": "code",
   "execution_count": 28,
   "id": "74a5b564",
   "metadata": {},
   "outputs": [
    {
     "name": "stdout",
     "output_type": "stream",
     "text": [
      "          Centralised  Local client 0  Local client 1  Local client 2  \\\n",
      "Epoch       70.000000       71.000000       89.000000       68.000000   \n",
      "BCE          0.605196        0.631770        0.612936        0.618509   \n",
      "Accuracy     0.729490        0.689579        0.716186        0.725055   \n",
      "\n",
      "            FedAvg  \n",
      "Epoch     1.000000  \n",
      "BCE       0.677141  \n",
      "Accuracy  0.580931  \n"
     ]
    }
   ],
   "source": [
    "column_names = [\"Centralised\", \"Local client 0\", \"Local client 1\", \"Local client 2\", \"FedAvg\"]\n",
    "\n",
    "# Fill in the values as specified\n",
    "df_dp = pd.DataFrame(\n",
    "    data=[\n",
    "        [70, 71, 89, 68, 1],  # Epoch/Round\n",
    "        [0.605196, 0.631770, 0.612936, 0.618509, 0.677141],  # BCE\n",
    "        [0.729490, 0.689579, 0.716186, 0.725055, 0.580931]   # Accuracy\n",
    "    ],\n",
    "    index=[\"Epoch\", \"BCE\", \"Accuracy\"],\n",
    "    columns=column_names\n",
    ")\n",
    "\n",
    "print(df_dp)"
   ]
  },
  {
   "cell_type": "markdown",
   "id": "76087cc3",
   "metadata": {},
   "source": [
    "Aggregate Local (robust) • Epoch 71  Worst-case BCE=0.631770  (range 0.620428–0.631770)\n",
    "Aggregate Accuracy        • Epoch 71  Worst-case ACC=0.689579  (range 0.689579–0.727273, avg=0.710273)\n",
    "Aggregate Local (robust) • Epoch 37  Worst-case Acc=0.702882  (range 0.702882–0.707317)\n",
    "\n",
    "=== FINAL TEST ERRORS (round 100) ===\n",
    "Centralised      •  BCE=0.607162  Accuracy=0.727273\n",
    "Local client 0 •  BCE=0.636516  Accuracy=0.700665\n",
    "Local client 1 •  BCE=0.616529  Accuracy=0.711752\n",
    "Local client 2 •  BCE=0.623078  Accuracy=0.718404\n",
    "FedAvg           •  BCE=0.692949  Accuracy=0.456763\n",
    "\n",
    "=== BEST-EPOCH ERRORS (lowest loss anywhere in 100 rounds) ===\n",
    "Centralised      •  Epoch 70  BCE=0.605196  Accuracy=0.729490\n",
    "Local client 0 •  Epoch 71BCE=0.631770Accuracy=0.689579\n",
    "Local client 1 •  Epoch 89BCE=0.612936Accuracy=0.716186\n",
    "Local client 2 •  Epoch 68BCE=0.618509Accuracy=0.725055\n",
    "FedAvg           •  Round 01BCE=0.677141Accuracy=0.580931\n"
   ]
  },
  {
   "cell_type": "markdown",
   "id": "74c8663f",
   "metadata": {},
   "source": [
    "## Analysis"
   ]
  },
  {
   "cell_type": "code",
   "execution_count": 29,
   "id": "0101029a",
   "metadata": {},
   "outputs": [
    {
     "data": {
      "image/png": "[encoded data removed]",
      "text/plain": [
       "<Figure size 800x500 with 1 Axes>"
      ]
     },
     "metadata": {},
     "output_type": "display_data"
    },
    {
     "data": {
      "image/png": "[encoded data removed]",
      "text/plain": [
       "<Figure size 800x500 with 1 Axes>"
      ]
     },
     "metadata": {},
     "output_type": "display_data"
    }
   ],
   "source": [
    "import matplotlib.pyplot as plt\n",
    "\n",
    "# Only plot FedAvg and Centralised\n",
    "columns_to_plot = [\"FedAvg\", \"Centralised\"]\n",
    "\n",
    "# Collect all DataFrames in a dictionary\n",
    "dfs = {\n",
    "    \"Baseline\": df_baseline,\n",
    "    \"Quarters\": df_quarters,\n",
    "    \"Variance\": df_variance,\n",
    "    \"Retrain\": df_retrain,\n",
    "    \"DP\": df_dp\n",
    "}\n",
    "\n",
    "metrics = [\"BCE\", \"Accuracy\"]\n",
    "\n",
    "for metric in metrics:\n",
    "    fig, ax = plt.subplots(figsize=(8, 5))\n",
    "    bar_width = 0.35\n",
    "    n_groups = len(dfs)\n",
    "    group_locs = range(n_groups)\n",
    "    all_values = []\n",
    "    bar_containers = []\n",
    "    # For each column (FedAvg, Centralised), collect values for each DataFrame\n",
    "    for i, col in enumerate(columns_to_plot):\n",
    "        values = []\n",
    "        epochs = []\n",
    "        for df in dfs.values():\n",
    "            if col in df.columns:\n",
    "                values.append(df.loc[metric, col])\n",
    "                epochs.append(df.loc[\"Epoch\", col])\n",
    "            else:\n",
    "                values.append(0)\n",
    "                epochs.append(\"\")\n",
    "        all_values.extend(values)\n",
    "        # Offset bars for each method\n",
    "        bars = ax.bar(\n",
    "            [g + i * bar_width for g in group_locs],\n",
    "            values,\n",
    "            bar_width,\n",
    "            label=col\n",
    "        )\n",
    "        bar_containers.append((bars, epochs))\n",
    "    # Add epoch number on each bar\n",
    "    for i, (bars, epochs) in enumerate(bar_containers):\n",
    "        for bar, epoch in zip(bars, epochs):\n",
    "            height = bar.get_height()\n",
    "            ax.annotate(\n",
    "                f'{int(epoch)}',\n",
    "                xy=(bar.get_x() + bar.get_width() / 2, height),\n",
    "                xytext=(0, 3),  # 3 points vertical offset\n",
    "                textcoords=\"offset points\",\n",
    "                ha='center', va='bottom',\n",
    "                fontsize=9, color='black'\n",
    "            )\n",
    "    # Set y-limits to min and max of all values\n",
    "    if all_values:\n",
    "        ymin = min(all_values)\n",
    "        ymax = max(all_values)\n",
    "        ax.set_ylim(ymin - 0.01, ymax + 0.01)\n",
    "    # Set x-ticks in the middle of the group of bars\n",
    "    ax.set_xticks([g + (len(columns_to_plot) / 2 - 0.5) * bar_width for g in group_locs])\n",
    "    ax.set_xticklabels(list(dfs.keys()))\n",
    "    ax.set_ylabel(metric)\n",
    "    ax.set_title(f\"{metric} comparison: FedAvg vs Centralised\")\n",
    "    ax.legend(title=\"Method\")\n",
    "    plt.tight_layout()\n",
    "    plt.show()"
   ]
  },
  {
   "cell_type": "code",
   "execution_count": null,
   "id": "290841e6",
   "metadata": {},
   "outputs": [],
   "source": []
  }
 ],
 "metadata": {
  "kernelspec": {
   "display_name": "base",
   "language": "python",
   "name": "python3"
  },
  "language_info": {
   "codemirror_mode": {
    "name": "ipython",
    "version": 3
   },
   "file_extension": ".py",
   "mimetype": "text/x-python",
   "name": "python",
   "nbconvert_exporter": "python",
   "pygments_lexer": "ipython3",
   "version": "3.12.2"
  }
 },
 "nbformat": 4,
 "nbformat_minor": 5
}
